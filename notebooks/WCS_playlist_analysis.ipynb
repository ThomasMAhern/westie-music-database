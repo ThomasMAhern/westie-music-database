{
 "cells": [
  {
   "cell_type": "code",
   "execution_count": null,
   "id": "c0d15f2f",
   "metadata": {},
   "outputs": [],
   "source": [
    "# !pip install polars hvplot altair --upgrade\n",
    "import polars as pl\n",
    "import hvplot.polars\n",
    "import os\n",
    "import matplotlib as plt\n",
    "import altair\n",
    "\n",
    "def adjust_bpm(df_):\n",
    "    return (df_\n",
    "             #correctify spotify's bpm guessing\n",
    "             .with_columns(new_bpm = pl.when(pl.col('BPM') >= 135)\n",
    "                                        .then(pl.col('BPM')/2)\n",
    "                                        .when(pl.col('BPM') <= 50)\n",
    "                                        .then(pl.col('BPM')*2)\n",
    "                                        .otherwise(pl.col('BPM')),\n",
    "                           song = pl.col('Song').str.slice(0,18),\n",
    "                          )\n",
    "            .sort('#')\n",
    "           )"
   ]
  },
  {
   "cell_type": "markdown",
   "id": "b02332a3-4eca-45ab-8113-57fa7484d421",
   "metadata": {},
   "source": [
    "# West Coast Swing Playlist Analytics\n",
    "\n",
    "Stemming from a one of the fantastic talks at [Westie Wisdom](https://www.super-secret-moves.com/workshops/fuer-trainer-und-organizer) where Flo G. detailed how he went about analyzing his sets using [Spotify's various metrics](https://developer.spotify.com/documentation/web-api/reference/get-audio-features) provided for songs. This is an attempt at continuing down that analytic path to answer some questions:\n",
    "\n",
    "* **What do various WCS DJ playlists/sets look like?** (from the good to the bad - focusing mainly on the ordered playlists)\n",
    "* **What music is (un)common in my bubble?** (get spotify connections and map their playlists)"
   ]
  },
  {
   "cell_type": "markdown",
   "id": "46f47ae9-25a3-4104-a89a-4270dd9aaea9",
   "metadata": {},
   "source": [
    "## What do various WCS DJ playlists/sets look like?"
   ]
  },
  {
   "cell_type": "markdown",
   "id": "570309aa-b7e5-4001-b777-3e130895efd6",
   "metadata": {},
   "source": [
    "### Tools\n",
    "* Playlist analyzer: https://www.chosic.com/spotify-playlist-analyzer/\n",
    "* BPM tool: https://www.all8.com/tools/bpm.htm\n",
    "* Aleš' Event/DJ Playlist Tracker: http://klopca.com/dance/west-coast-swing/music/2024events\n",
    "\n",
    "I pasted the spotify playlist links into the [playlist analyzer](https://www.chosic.com/spotify-playlist-analyzer/), and downloaded the `.csv` at the bottom"
   ]
  },
  {
   "cell_type": "markdown",
   "id": "a5d4c4d1-2b49-4b5e-82be-b6efe741300c",
   "metadata": {},
   "source": [
    "### Graphs! \n",
    "(😔 Have to use Matplotlib for Github viewing)\n",
    "\n",
    "A beginner DJ made some playlists that were too fast (first 3 graphs), but you can see that on the 3rd, with guidance, the set improved around halfway through. Mistakes are great, because you get to improve, and it gives us examples to work with!\n",
    "\n",
    "The subsequent graphs are sets during events from established DJ's, and you can see the slow pulses and/or gradual slowing of BPM.\n",
    "\n",
    "`Note:`\n",
    "*If you a really high or low spike that doesn't match the surrounding bpm's, it's likely because Spotify doesn't always get it right. I've tried to correct the worst ones, but there will still be some that escape.*"
   ]
  },
  {
   "cell_type": "code",
   "execution_count": null,
   "id": "d9417c84-f802-4a79-a740-7cdf52145742",
   "metadata": {
    "scrolled": true
   },
   "outputs": [],
   "source": [
    "for i in sorted(os.listdir('../Playlists/')):\n",
    "    if 'unordered' not in i and '.csv' in i:\n",
    "        (pl.read_csv(f'../Playlists/{i}')\n",
    "         .with_columns(\n",
    "             #correctifies the worst of Spotify's bpm attempts\n",
    "             new_bpm = pl.when(pl.col('BPM') >= 135)\n",
    "                        .then(pl.col('BPM')/2)\n",
    "                        .when(pl.col('BPM') <= 50)\n",
    "                        .then(pl.col('BPM')*2)\n",
    "                        .otherwise(pl.col('BPM')),\n",
    "             #truncates loooong song names so they don't kill graph proportions\n",
    "             song = pl.col('Song').str.slice(0,18),\n",
    "         )\n",
    "        .to_pandas()\n",
    "        #plot things\n",
    "        ).plot(x='song',\n",
    "               y='new_bpm',\n",
    "               kind='line',\n",
    "               title=i,\n",
    "               figsize=(16, 5),\n",
    "               legend=True,\n",
    "               rot=90,\n",
    "               ylabel='BPM',\n",
    "              )"
   ]
  },
  {
   "cell_type": "markdown",
   "id": "3c15d37e-dab9-4912-b9d9-43e0c08b823c",
   "metadata": {},
   "source": [
    "### Observations\n",
    "\n",
    "With Spotify's bpm inaccuracy, you can actually see how clear/simple the beats are in some of the sets. If there's a lot of variation or jumps, it likely means the songs have some complex rhythms that are confusing Spotify. Some playlists above show a clear `/\\/\\/\\/\\/\\` which might be a good indicator that the beats are clear enough to dance to for beginners!\n",
    "\n"
   ]
  },
  {
   "cell_type": "markdown",
   "id": "be0ca22d-ce88-45e8-8237-0e377536efc9",
   "metadata": {},
   "source": [
    "### Graphing with `hvplot`"
   ]
  },
  {
   "cell_type": "code",
   "execution_count": null,
   "id": "20ff15a9-7143-4671-b93b-0491055a3aee",
   "metadata": {},
   "outputs": [],
   "source": [
    "for i in sorted(os.listdir('../Playlists/')):\n",
    "    if 'unordered' not in i and '.csv' in i:\n",
    "        display(pl.read_csv(f'../Playlists/{i}').pipe(adjust_bpm)\n",
    "\n",
    "                #plot things\n",
    "                .hvplot(x='song',\n",
    "                         y=['new_bpm',\n",
    "                            # 'Energy'\n",
    "                           ],\n",
    "                         width=1300,\n",
    "                         height=500,\n",
    "                         stacked=True,\n",
    "                         legend='top',\n",
    "                         title=i,\n",
    "                        ).opts(xrotation=90)) #rotating song names"
   ]
  },
  {
   "cell_type": "markdown",
   "id": "e4343d90-1b9e-4cbb-ba15-d7d83522c87d",
   "metadata": {},
   "source": [
    "## Prepping the data for analysis\n",
    "\n",
    "This is where we're gonna go from 0-100 real quick. I'm doing a lot of modifications - with comments - to prep our dataset for things we'll want to do later. This involves:\n",
    "* Adding playlist names\n",
    "* Correctify Spotify bpm blunders\n",
    "* Truncate long song names\n",
    "* Show where a song is in each playlist"
   ]
  },
  {
   "cell_type": "code",
   "execution_count": null,
   "id": "fc4f19c3-8e65-4691-b585-afc8904439f2",
   "metadata": {
    "scrolled": true
   },
   "outputs": [],
   "source": [
    "dfs = []\n",
    "\n",
    "for _ in sorted(os.listdir('../Playlists/')):\n",
    "    if '.csv' in _:\n",
    "        df_ = pl.read_csv(f'../Playlists/{_}')\n",
    "        dfs.append(\n",
    "            df_\n",
    "             .pipe(adjust_bpm)\n",
    "             .with_columns(\n",
    "\n",
    "                 #correctifies the worst of Spotify's bpm attempts\n",
    "                 new_bpm = pl.when(pl.col('BPM') >= 135)\n",
    "                            .then(pl.col('BPM')/2)\n",
    "                            .when(pl.col('BPM') <= 50)\n",
    "                            .then(pl.col('BPM')*2)\n",
    "                            .otherwise(pl.col('BPM')),\n",
    "\n",
    "                 #truncates loooong song names so they don't kill graph proportions\n",
    "                 song = pl.col('Song').str.slice(0,18),\n",
    "\n",
    "                 #set the playlist name\n",
    "                 playlist = pl.lit(_),\n",
    "\n",
    "                 #where the song is positioned in the playlist\n",
    "                 song_position_in_playlist = pl.concat_str([pl.col('#'), pl.lit('/'), df_.shape[0]]),\n",
    "\n",
    "                 #where the song is positioned - beginning/middle/end\n",
    "                 apprx_song_position_in_playlist = pl.when((pl.col('#')*100 / pl.lit(df_.shape[0])) <= 33)\n",
    "                                                      .then(pl.lit('beginning'))\n",
    "                                                      .when((pl.col('#')*100 / pl.lit(df_.shape[0])) >= 34,\n",
    "                                                            (pl.col('#')*100 / pl.lit(df_.shape[0])) <= 66)\n",
    "                                                      .then(pl.lit('middle'))\n",
    "                                                      .when((pl.col('#')*100 / pl.lit(df_.shape[0])) >= 67)\n",
    "                                                      .then(pl.lit('end'))\n",
    "              )\n",
    "\n",
    "             #prevents the numbers from being summed when they shouldn't be\n",
    "             .select(pl.all().cast(pl.String))\n",
    "            )\n",
    "\n",
    "df = pl.concat(dfs)\n",
    "df"
   ]
  },
  {
   "cell_type": "code",
   "execution_count": null,
   "id": "459ab253-8d5b-48f6-b471-03522c412397",
   "metadata": {},
   "outputs": [],
   "source": []
  },
  {
   "cell_type": "markdown",
   "id": "a3649f01-d737-4e60-aabb-4bab24685ca8",
   "metadata": {},
   "source": [
    "### What music is (un)common in my bubble?"
   ]
  },
  {
   "cell_type": "code",
   "execution_count": null,
   "id": "f8d06184-f233-4c40-82fb-3dac5dbc1d94",
   "metadata": {},
   "outputs": [],
   "source": [
    "#tbd"
   ]
  },
  {
   "cell_type": "markdown",
   "id": "d9028187-e2c6-4239-9e3a-efc96dbbc23d",
   "metadata": {},
   "source": [
    "### What're the most and least common songs?"
   ]
  },
  {
   "cell_type": "code",
   "execution_count": null,
   "id": "8736a337-dff9-4009-b66d-d6bc72e55d4e",
   "metadata": {
    "scrolled": true
   },
   "outputs": [],
   "source": [
    "(df\n",
    " .group_by('Artist', 'Song')\n",
    " .agg(pl.col('song_position_in_playlist', 'apprx_song_position_in_playlist', 'playlist').sort())\n",
    " .with_columns(pl.col('playlist').list.unique().list.sort(),\n",
    "               num_playlists = pl.col('playlist').list.unique().list.len())\n",
    " .sort('num_playlists', descending = True)\n",
    ")"
   ]
  },
  {
   "cell_type": "markdown",
   "id": "ef7c1c2b-e743-4c3e-95ab-5ed803c855f0",
   "metadata": {},
   "source": [
    "### Which Artists are most played among everyone?"
   ]
  },
  {
   "cell_type": "code",
   "execution_count": null,
   "id": "28014874-9ff2-4e37-b525-2cd1b6c7e096",
   "metadata": {
    "scrolled": true
   },
   "outputs": [],
   "source": [
    "pl.Config.set_fmt_table_cell_list_len(15)\n",
    "\n",
    "(df\n",
    " .group_by('Artist')\n",
    " .agg(pl.col('song_position_in_playlist', 'apprx_song_position_in_playlist', 'playlist').sort())\n",
    " .with_columns(pl.col('playlist').list.unique().list.sort(),\n",
    "               num_playlists = pl.col('playlist').list.unique().list.len())\n",
    " .sort('num_playlists', descending = True)\n",
    ")"
   ]
  },
  {
   "cell_type": "markdown",
   "id": "1ade9e9b-da43-4550-8239-6c4000155669",
   "metadata": {},
   "source": [
    "### Relative positions of songs in playlists.\n"
   ]
  },
  {
   "cell_type": "code",
   "execution_count": null,
   "id": "b23cec3c-cb7e-475d-873e-76b1a8202fc5",
   "metadata": {},
   "outputs": [],
   "source": [
    "pl.Config.set_tbl_rows(50)\n",
    "(df\n",
    " .group_by('Artist', 'Song')\n",
    " .agg(pl.col('song_position_in_playlist', 'apprx_song_position_in_playlist', 'playlist').sort())\n",
    " .with_columns(pl.col('playlist').list.unique().list.sort(),\n",
    "               num_playlists = pl.col('playlist').list.unique().list.len())\n",
    " .sort('num_playlists', descending = True)\n",
    " # .filter(pl.col('apprx_song_position_in_playlist').list.join(',').str.contains('middle'))\n",
    ")"
   ]
  },
  {
   "cell_type": "markdown",
   "id": "650bf3f7-2aca-4818-a4e9-49e44cb3c401",
   "metadata": {},
   "source": [
    "### What Artists are most played among my country?"
   ]
  },
  {
   "cell_type": "code",
   "execution_count": null,
   "id": "b67c1141-75c5-4b6d-9407-73c9452fda2b",
   "metadata": {},
   "outputs": [],
   "source": [
    "# (pl.concat(dfs)\n",
    "#  # .select(pl.all().cast(pl.String))\n",
    "#  .group_by('Artist')\n",
    "#  .agg(pl.col('Country').unique().sort(),\n",
    "#       pl.col('playlist').unique().sort(),\n",
    "#       pl.col('Song')\n",
    "#      )\n",
    "#  .with_columns(num_playlists = pl.col('playlist').list.len())\n",
    "#  .sort('num_playlists', descending = True)\n",
    "# )"
   ]
  },
  {
   "cell_type": "code",
   "execution_count": null,
   "id": "cffe36af-8f1d-4b21-89d7-d1d1f80823d5",
   "metadata": {},
   "outputs": [],
   "source": []
  },
  {
   "cell_type": "markdown",
   "id": "5ad3fc30-2f0f-43f5-bffe-518c02b75a13",
   "metadata": {},
   "source": [
    "### What's the most common time signature\n",
    "These are currently factoring in all the songs in all the playlists, which might skew results, I should distill each playlist first, and then aggregate.\n"
   ]
  },
  {
   "cell_type": "code",
   "execution_count": null,
   "id": "67ff8aeb-86d3-45d8-9582-00f7b556d540",
   "metadata": {
    "scrolled": true
   },
   "outputs": [],
   "source": [
    "(df\n",
    " .group_by('Time Signature')\n",
    " .agg(pl.all().unique().sort())\n",
    " .with_columns(pl.col('playlist').list.unique().list.sort(),\n",
    "               num_playlists = pl.col('playlist').list.unique().list.len())\n",
    " .sort('num_playlists', descending = True)\n",
    ")"
   ]
  },
  {
   "cell_type": "code",
   "execution_count": null,
   "id": "3baacbb3-1dfd-4815-a06d-f49a0e93a503",
   "metadata": {},
   "outputs": [],
   "source": []
  }
 ],
 "metadata": {
  "kernelspec": {
   "display_name": "Python 3",
   "language": "python",
   "name": "python3"
  },
  "language_info": {
   "codemirror_mode": {
    "name": "ipython",
    "version": 3
   },
   "file_extension": ".py",
   "mimetype": "text/x-python",
   "name": "python",
   "nbconvert_exporter": "python",
   "pygments_lexer": "ipython3",
   "version": "3.13.5"
  }
 },
 "nbformat": 4,
 "nbformat_minor": 5
}

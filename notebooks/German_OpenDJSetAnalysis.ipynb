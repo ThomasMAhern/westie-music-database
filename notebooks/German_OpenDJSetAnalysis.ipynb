{
 "cells": [
  {
   "cell_type": "code",
   "execution_count": 1,
   "id": "ce09c18b",
   "metadata": {},
   "outputs": [],
   "source": [
    "import pandas as pd\n",
    "from ydata_profiling import ProfileReport\n",
    "import plotly.express as px"
   ]
  },
  {
   "cell_type": "code",
   "execution_count": 50,
   "id": "4fa2971c",
   "metadata": {},
   "outputs": [],
   "source": [
    "session_data = pd.read_csv(\"/Users/florianprivat/PycharmProjects/djdata/session_data/spotify_session_2024-08-02_11:28:39.csv\")\n",
    "session_data = session_data.drop_duplicates(subset='name')\n",
    "session_data = session_data.reset_index(drop=True)\n",
    "profile = ProfileReport(session_data, title=\"German Open Set 2024\")"
   ]
  },
  {
   "cell_type": "code",
   "execution_count": 27,
   "id": "962afb00",
   "metadata": {},
   "outputs": [
    {
     "data": {
      "application/vnd.jupyter.widget-view+json": {
       "model_id": "1e889854318942bfb42cd39922290b91",
       "version_major": 2,
       "version_minor": 0
      },
      "text/plain": [
       "Summarize dataset:   0%|          | 0/5 [00:00<?, ?it/s]"
      ]
     },
     "metadata": {},
     "output_type": "display_data"
    },
    {
     "data": {
      "application/vnd.jupyter.widget-view+json": {
       "model_id": "edb7b37993ad4f12abf2640eb957633f",
       "version_major": 2,
       "version_minor": 0
      },
      "text/plain": [
       "Generate report structure:   0%|          | 0/1 [00:00<?, ?it/s]"
      ]
     },
     "metadata": {},
     "output_type": "display_data"
    },
    {
     "data": {
      "application/vnd.jupyter.widget-view+json": {
       "model_id": "d907255930a243c5ab126ee95a42588e",
       "version_major": 2,
       "version_minor": 0
      },
      "text/plain": [
       "Render HTML:   0%|          | 0/1 [00:00<?, ?it/s]"
      ]
     },
     "metadata": {},
     "output_type": "display_data"
    },
    {
     "data": {
      "application/vnd.jupyter.widget-view+json": {
       "model_id": "b8a0da62781f448ca39364617c1cb827",
       "version_major": 2,
       "version_minor": 0
      },
      "text/plain": [
       "Export report to file:   0%|          | 0/1 [00:00<?, ?it/s]"
      ]
     },
     "metadata": {},
     "output_type": "display_data"
    }
   ],
   "source": [
    "profile.to_file(\"german_open_dj_session.html\")"
   ]
  },
  {
   "cell_type": "code",
   "execution_count": 53,
   "id": "12f59c1f",
   "metadata": {},
   "outputs": [],
   "source": [
    "session_data['tempo'] = [tempo/2 if tempo > 120 else tempo for tempo in session_data['tempo']]"
   ]
  },
  {
   "cell_type": "code",
   "execution_count": 54,
   "id": "ae8d1416",
   "metadata": {
    "scrolled": true
   },
   "outputs": [
    {
     "data": {
      "text/html": [
       "<iframe\n",
       "    scrolling=\"no\"\n",
       "    width=\"100%\"\n",
       "    height=\"545px\"\n",
       "    src=\"iframe_figures/figure_54.html\"\n",
       "    frameborder=\"0\"\n",
       "    allowfullscreen\n",
       "></iframe>\n"
      ]
     },
     "metadata": {},
     "output_type": "display_data"
    }
   ],
   "source": [
    "# Create the line graph using Plotly Express\n",
    "fig = px.line(session_data, x=\"name\", y=\"tempo\")\n",
    "\n",
    "# Set the title and axis labels\n",
    "fig.update_layout(\n",
    "    title=\"Song Speed Over Time\",\n",
    "    xaxis_title=\"Song\",\n",
    "    yaxis_title=\"Tempo (bpm)\"\n",
    ")\n",
    "\n",
    "# Display the graph\n",
    "# all three of these worked\n",
    "fig.show(renderer='iframe_connected')"
   ]
  },
  {
   "cell_type": "code",
   "execution_count": 59,
   "id": "320de081",
   "metadata": {},
   "outputs": [
    {
     "data": {
      "text/html": [
       "<iframe\n",
       "    scrolling=\"no\"\n",
       "    width=\"820px\"\n",
       "    height=\"620\"\n",
       "    src=\"iframe_figures/figure_59.html\"\n",
       "    frameborder=\"0\"\n",
       "    allowfullscreen\n",
       "></iframe>\n"
      ]
     },
     "metadata": {},
     "output_type": "display_data"
    }
   ],
   "source": [
    "import plotly.express as px\n",
    "import plotly.graph_objects as go\n",
    "import numpy as np\n",
    "from scipy.interpolate import make_interp_spline\n",
    "\n",
    "# Convert session_data to a format suitable for Plotly\n",
    "name = session_data['name']\n",
    "tempo = session_data['tempo']\n",
    "\n",
    "# Spline interpolation for smoothing\n",
    "x = np.arange(len(name))\n",
    "x_smooth = np.linspace(x.min(), x.max(), 300)\n",
    "spl = make_interp_spline(x, tempo, k=3)  # k=3 for cubic spline\n",
    "tempo_smooth = spl(x_smooth)\n",
    "\n",
    "# Create the smooth line graph using Plotly Graph Objects\n",
    "fig = go.Figure()\n",
    "\n",
    "fig.add_trace(go.Scatter(\n",
    "    x=x_smooth,\n",
    "    y=tempo_smooth,\n",
    "    mode='lines',\n",
    "    name='Smoothed Tempo',\n",
    "    line=dict(color='royalblue', width=2)\n",
    "))\n",
    "\n",
    "# Set the x-axis tick values to correspond to song names\n",
    "fig.update_xaxes(\n",
    "    tickvals=x,\n",
    "    ticktext=name\n",
    ")\n",
    "\n",
    "# Set the title and axis labels\n",
    "fig.update_layout(\n",
    "    title=\"Smoothed Song Speeds in Order\",\n",
    "    xaxis_title=\"Song\",\n",
    "    yaxis_title=\"Tempo (bpm)\",\n",
    "    template='plotly_white',\n",
    "    width=800,\n",
    "    height=600,\n",
    "    margin=dict(l=50, r=50, t=80, b=50),\n",
    "    showlegend=False\n",
    ")\n",
    "\n",
    "# Display the graph\n",
    "fig.show(renderer='iframe_connected')\n"
   ]
  },
  {
   "cell_type": "code",
   "execution_count": 58,
   "id": "427bd72b",
   "metadata": {},
   "outputs": [
    {
     "data": {
      "text/html": [
       "<iframe\n",
       "    scrolling=\"no\"\n",
       "    width=\"820px\"\n",
       "    height=\"620\"\n",
       "    src=\"iframe_figures/figure_58.html\"\n",
       "    frameborder=\"0\"\n",
       "    allowfullscreen\n",
       "></iframe>\n"
      ]
     },
     "metadata": {},
     "output_type": "display_data"
    }
   ],
   "source": [
    "import plotly.express as px\n",
    "import plotly.graph_objects as go\n",
    "import numpy as np\n",
    "from scipy.interpolate import make_interp_spline\n",
    "\n",
    "# Convert session_data to a format suitable for Plotly\n",
    "name = session_data['name']\n",
    "tempo = session_data['tempo']\n",
    "\n",
    "# Spline interpolation for smoothing\n",
    "x = np.arange(len(name))\n",
    "x_smooth = np.linspace(x.min(), x.max(), 300)\n",
    "spl = make_interp_spline(x, tempo, k=3)  # k=3 for cubic spline\n",
    "tempo_smooth = spl(x_smooth)\n",
    "\n",
    "# Create the smooth line graph using Plotly Graph Objects\n",
    "fig = go.Figure()\n",
    "\n",
    "fig.add_trace(go.Scatter(\n",
    "    x=x_smooth,\n",
    "    y=tempo_smooth,\n",
    "    mode='lines',\n",
    "    name='Smoothed Tempo',\n",
    "    line=dict(color='royalblue', width=2)\n",
    "))\n",
    "\n",
    "# Set the x-axis tick values to correspond to song names, displaying only every second song\n",
    "tickvals = x[::2]\n",
    "ticktext = name[::2]\n",
    "\n",
    "fig.update_xaxes(\n",
    "    tickvals=tickvals,\n",
    "    ticktext=ticktext\n",
    ")\n",
    "\n",
    "# Set the title and axis labels\n",
    "fig.update_layout(\n",
    "    title=\"Song Speeds in Order\",\n",
    "    xaxis_title=\"Song\",\n",
    "    yaxis_title=\"Tempo (bpm)\",\n",
    "    template='plotly_white',\n",
    "    width=800,\n",
    "    height=600,\n",
    "    margin=dict(l=50, r=50, t=80, b=50),\n",
    "    showlegend=False\n",
    ")\n",
    "\n",
    "# Display the graph\n",
    "fig.show(renderer='iframe_connected')\n"
   ]
  },
  {
   "cell_type": "code",
   "execution_count": 30,
   "id": "cd27174c",
   "metadata": {},
   "outputs": [
    {
     "data": {
      "text/plain": [
       "Index(['Unnamed: 0', 'artists', 'available_markets', 'disc_number',\n",
       "       'duration_ms_x', 'explicit', 'href', 'id_x', 'is_local', 'name',\n",
       "       'popularity', 'preview_url', 'track_number', 'type_x', 'uri_x',\n",
       "       'album.album_type', 'album.artists', 'album.available_markets',\n",
       "       'album.external_urls.spotify', 'album.href', 'album.id', 'album.images',\n",
       "       'album.name', 'album.release_date', 'album.release_date_precision',\n",
       "       'album.total_tracks', 'album.type', 'album.uri', 'external_ids.isrc',\n",
       "       'external_urls.spotify', 'danceability', 'energy', 'key', 'loudness',\n",
       "       'mode', 'speechiness', 'acousticness', 'instrumentalness', 'liveness',\n",
       "       'valence', 'tempo', 'type_y', 'id_y', 'uri_y', 'track_href',\n",
       "       'analysis_url', 'duration_ms_y', 'time_signature'],\n",
       "      dtype='object')"
      ]
     },
     "execution_count": 30,
     "metadata": {},
     "output_type": "execute_result"
    }
   ],
   "source": [
    "session_data.columns"
   ]
  },
  {
   "cell_type": "code",
   "execution_count": 31,
   "id": "8347eaa4",
   "metadata": {},
   "outputs": [
    {
     "data": {
      "text/html": [
       "<div>\n",
       "<style scoped>\n",
       "    .dataframe tbody tr th:only-of-type {\n",
       "        vertical-align: middle;\n",
       "    }\n",
       "\n",
       "    .dataframe tbody tr th {\n",
       "        vertical-align: top;\n",
       "    }\n",
       "\n",
       "    .dataframe thead th {\n",
       "        text-align: right;\n",
       "    }\n",
       "</style>\n",
       "<table border=\"1\" class=\"dataframe\">\n",
       "  <thead>\n",
       "    <tr style=\"text-align: right;\">\n",
       "      <th></th>\n",
       "      <th>name</th>\n",
       "      <th>tempo</th>\n",
       "    </tr>\n",
       "  </thead>\n",
       "  <tbody>\n",
       "    <tr>\n",
       "      <th>0</th>\n",
       "      <td>One Thing Right</td>\n",
       "      <td>88.042</td>\n",
       "    </tr>\n",
       "    <tr>\n",
       "      <th>1</th>\n",
       "      <td>J'me tire</td>\n",
       "      <td>95.017</td>\n",
       "    </tr>\n",
       "    <tr>\n",
       "      <th>2</th>\n",
       "      <td>Trapped in a Dream</td>\n",
       "      <td>89.048</td>\n",
       "    </tr>\n",
       "    <tr>\n",
       "      <th>3</th>\n",
       "      <td>The Way I Want It</td>\n",
       "      <td>97.981</td>\n",
       "    </tr>\n",
       "    <tr>\n",
       "      <th>4</th>\n",
       "      <td>Fabulous</td>\n",
       "      <td>109.014</td>\n",
       "    </tr>\n",
       "  </tbody>\n",
       "</table>\n",
       "</div>"
      ],
      "text/plain": [
       "                 name    tempo\n",
       "0     One Thing Right   88.042\n",
       "1           J'me tire   95.017\n",
       "2  Trapped in a Dream   89.048\n",
       "3   The Way I Want It   97.981\n",
       "4            Fabulous  109.014"
      ]
     },
     "execution_count": 31,
     "metadata": {},
     "output_type": "execute_result"
    }
   ],
   "source": [
    "session_data[['name', 'tempo']].head()"
   ]
  },
  {
   "cell_type": "code",
   "execution_count": 42,
   "id": "d00b535f",
   "metadata": {},
   "outputs": [
    {
     "data": {
      "text/html": [
       "<div>\n",
       "<style scoped>\n",
       "    .dataframe tbody tr th:only-of-type {\n",
       "        vertical-align: middle;\n",
       "    }\n",
       "\n",
       "    .dataframe tbody tr th {\n",
       "        vertical-align: top;\n",
       "    }\n",
       "\n",
       "    .dataframe thead th {\n",
       "        text-align: right;\n",
       "    }\n",
       "</style>\n",
       "<table border=\"1\" class=\"dataframe\">\n",
       "  <thead>\n",
       "    <tr style=\"text-align: right;\">\n",
       "      <th></th>\n",
       "      <th>acousticness</th>\n",
       "    </tr>\n",
       "  </thead>\n",
       "  <tbody>\n",
       "    <tr>\n",
       "      <th>count</th>\n",
       "      <td>40.000000</td>\n",
       "    </tr>\n",
       "    <tr>\n",
       "      <th>mean</th>\n",
       "      <td>0.325906</td>\n",
       "    </tr>\n",
       "    <tr>\n",
       "      <th>std</th>\n",
       "      <td>0.256080</td>\n",
       "    </tr>\n",
       "    <tr>\n",
       "      <th>min</th>\n",
       "      <td>0.008920</td>\n",
       "    </tr>\n",
       "    <tr>\n",
       "      <th>25%</th>\n",
       "      <td>0.094275</td>\n",
       "    </tr>\n",
       "    <tr>\n",
       "      <th>50%</th>\n",
       "      <td>0.270000</td>\n",
       "    </tr>\n",
       "    <tr>\n",
       "      <th>75%</th>\n",
       "      <td>0.429500</td>\n",
       "    </tr>\n",
       "    <tr>\n",
       "      <th>max</th>\n",
       "      <td>0.917000</td>\n",
       "    </tr>\n",
       "  </tbody>\n",
       "</table>\n",
       "</div>"
      ],
      "text/plain": [
       "       acousticness\n",
       "count     40.000000\n",
       "mean       0.325906\n",
       "std        0.256080\n",
       "min        0.008920\n",
       "25%        0.094275\n",
       "50%        0.270000\n",
       "75%        0.429500\n",
       "max        0.917000"
      ]
     },
     "execution_count": 42,
     "metadata": {},
     "output_type": "execute_result"
    }
   ],
   "source": [
    "session_data[['acousticness']].describe()"
   ]
  },
  {
   "cell_type": "code",
   "execution_count": 60,
   "id": "cd8c0953",
   "metadata": {},
   "outputs": [],
   "source": [
    "song_dimensions = ['danceability','speechiness','acousticness','instrumentalness','liveness','valence','energy']"
   ]
  },
  {
   "cell_type": "code",
   "execution_count": 61,
   "id": "26ce1d38",
   "metadata": {},
   "outputs": [
    {
     "name": "stderr",
     "output_type": "stream",
     "text": [
      "/var/folders/z7/9_928_ds1l9_46_hmcd5w5tc0000gp/T/ipykernel_91593/695030624.py:3: SettingWithCopyWarning:\n",
      "\n",
      "\n",
      "A value is trying to be set on a copy of a slice from a DataFrame.\n",
      "Try using .loc[row_indexer,col_indexer] = value instead\n",
      "\n",
      "See the caveats in the documentation: https://pandas.pydata.org/pandas-docs/stable/user_guide/indexing.html#returning-a-view-versus-a-copy\n",
      "\n"
     ]
    }
   ],
   "source": [
    "spider_data = session_data[song_dimensions]\n",
    "for col in song_dimensions:\n",
    "    spider_data[col] = (spider_data[col] - spider_data[col].min()) / (spider_data[col].max() - spider_data[col].min())"
   ]
  },
  {
   "cell_type": "code",
   "execution_count": 62,
   "id": "32ba1446",
   "metadata": {},
   "outputs": [
    {
     "data": {
      "text/html": [
       "<iframe\n",
       "    scrolling=\"no\"\n",
       "    width=\"100%\"\n",
       "    height=\"545px\"\n",
       "    src=\"iframe_figures/figure_62.html\"\n",
       "    frameborder=\"0\"\n",
       "    allowfullscreen\n",
       "></iframe>\n"
      ]
     },
     "metadata": {},
     "output_type": "display_data"
    }
   ],
   "source": [
    "import plotly.graph_objects as go\n",
    "\n",
    "# Define the categories and the values for each category\n",
    "categories = ['danceability','acousticness','speechiness','instrumentalness','liveness','valence']\n",
    "values = [spider_data[cat].mean() for cat in categories]\n",
    "\n",
    "# Append the first value to the end to close the loop of the spider web\n",
    "values += values[:1]\n",
    "\n",
    "# Create the radar chart\n",
    "fig = go.Figure(\n",
    "    data=[\n",
    "        go.Scatterpolar(\n",
    "            r=values,\n",
    "            theta=categories + [categories[0]],\n",
    "            fill='toself'\n",
    "        )\n",
    "    ]\n",
    ")\n",
    "\n",
    "# Customize the layout\n",
    "fig.update_layout(\n",
    "    polar=dict(\n",
    "        radialaxis=dict(\n",
    "            visible=True,\n",
    "            range=[0, max(values)+0.1*max(values)]\n",
    "        )\n",
    "    ),\n",
    "    showlegend=False\n",
    ")\n",
    "\n",
    "# Show the plot\n",
    "fig.show(renderer='iframe_connected')"
   ]
  },
  {
   "cell_type": "code",
   "execution_count": 63,
   "id": "d8e771d7",
   "metadata": {},
   "outputs": [
    {
     "data": {
      "text/html": [
       "<div>\n",
       "<style scoped>\n",
       "    .dataframe tbody tr th:only-of-type {\n",
       "        vertical-align: middle;\n",
       "    }\n",
       "\n",
       "    .dataframe tbody tr th {\n",
       "        vertical-align: top;\n",
       "    }\n",
       "\n",
       "    .dataframe thead th {\n",
       "        text-align: right;\n",
       "    }\n",
       "</style>\n",
       "<table border=\"1\" class=\"dataframe\">\n",
       "  <thead>\n",
       "    <tr style=\"text-align: right;\">\n",
       "      <th></th>\n",
       "      <th>Unnamed: 0</th>\n",
       "      <th>artists</th>\n",
       "      <th>available_markets</th>\n",
       "      <th>disc_number</th>\n",
       "      <th>duration_ms_x</th>\n",
       "      <th>explicit</th>\n",
       "      <th>href</th>\n",
       "      <th>id_x</th>\n",
       "      <th>is_local</th>\n",
       "      <th>name</th>\n",
       "      <th>...</th>\n",
       "      <th>liveness</th>\n",
       "      <th>valence</th>\n",
       "      <th>tempo</th>\n",
       "      <th>type_y</th>\n",
       "      <th>id_y</th>\n",
       "      <th>uri_y</th>\n",
       "      <th>track_href</th>\n",
       "      <th>analysis_url</th>\n",
       "      <th>duration_ms_y</th>\n",
       "      <th>time_signature</th>\n",
       "    </tr>\n",
       "  </thead>\n",
       "  <tbody>\n",
       "    <tr>\n",
       "      <th>0</th>\n",
       "      <td>0</td>\n",
       "      <td>[{'external_urls': {'spotify': 'https://open.s...</td>\n",
       "      <td>[]</td>\n",
       "      <td>1</td>\n",
       "      <td>181823</td>\n",
       "      <td>False</td>\n",
       "      <td>https://api.spotify.com/v1/tracks/4hPpVbbakQNv...</td>\n",
       "      <td>4hPpVbbakQNv8YTHYaOJP4</td>\n",
       "      <td>False</td>\n",
       "      <td>One Thing Right</td>\n",
       "      <td>...</td>\n",
       "      <td>0.582</td>\n",
       "      <td>0.442</td>\n",
       "      <td>88.042</td>\n",
       "      <td>audio_features</td>\n",
       "      <td>4hPpVbbakQNv8YTHYaOJP4</td>\n",
       "      <td>spotify:track:4hPpVbbakQNv8YTHYaOJP4</td>\n",
       "      <td>https://api.spotify.com/v1/tracks/4hPpVbbakQNv...</td>\n",
       "      <td>https://api.spotify.com/v1/audio-analysis/4hPp...</td>\n",
       "      <td>181824</td>\n",
       "      <td>4</td>\n",
       "    </tr>\n",
       "  </tbody>\n",
       "</table>\n",
       "<p>1 rows × 48 columns</p>\n",
       "</div>"
      ],
      "text/plain": [
       "   Unnamed: 0                                            artists  \\\n",
       "0           0  [{'external_urls': {'spotify': 'https://open.s...   \n",
       "\n",
       "  available_markets  disc_number  duration_ms_x  explicit  \\\n",
       "0                []            1         181823     False   \n",
       "\n",
       "                                                href                    id_x  \\\n",
       "0  https://api.spotify.com/v1/tracks/4hPpVbbakQNv...  4hPpVbbakQNv8YTHYaOJP4   \n",
       "\n",
       "   is_local             name  ...  liveness valence   tempo          type_y  \\\n",
       "0     False  One Thing Right  ...     0.582   0.442  88.042  audio_features   \n",
       "\n",
       "                     id_y                                 uri_y  \\\n",
       "0  4hPpVbbakQNv8YTHYaOJP4  spotify:track:4hPpVbbakQNv8YTHYaOJP4   \n",
       "\n",
       "                                          track_href  \\\n",
       "0  https://api.spotify.com/v1/tracks/4hPpVbbakQNv...   \n",
       "\n",
       "                                        analysis_url duration_ms_y  \\\n",
       "0  https://api.spotify.com/v1/audio-analysis/4hPp...        181824   \n",
       "\n",
       "  time_signature  \n",
       "0              4  \n",
       "\n",
       "[1 rows x 48 columns]"
      ]
     },
     "execution_count": 63,
     "metadata": {},
     "output_type": "execute_result"
    }
   ],
   "source": [
    "session_data[session_data['liveness']>0.5]"
   ]
  },
  {
   "cell_type": "code",
   "execution_count": null,
   "id": "937a2fc2",
   "metadata": {},
   "outputs": [],
   "source": []
  }
 ],
 "metadata": {
  "kernelspec": {
   "display_name": "djdata",
   "language": "python",
   "name": "myenv"
  },
  "language_info": {
   "codemirror_mode": {
    "name": "ipython",
    "version": 3
   },
   "file_extension": ".py",
   "mimetype": "text/x-python",
   "name": "python",
   "nbconvert_exporter": "python",
   "pygments_lexer": "ipython3",
   "version": "3.10.11"
  }
 },
 "nbformat": 4,
 "nbformat_minor": 5
}
